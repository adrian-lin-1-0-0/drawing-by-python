{
 "cells": [
  {
   "cell_type": "code",
   "execution_count": 4,
   "metadata": {},
   "outputs": [
    {
     "data": {
      "image/png": "[encoded data removed]",
      "text/plain": [
       "<Figure size 432x288 with 1 Axes>"
      ]
     },
     "metadata": {
      "needs_background": "light"
     },
     "output_type": "display_data"
    }
   ],
   "source": [
    "import random\n",
    "import matplotlib.pyplot as plt\n",
    "\n",
    "class Game:\n",
    "    def __init__(self):\n",
    "        self.value = 0\n",
    "        return\n",
    "    def random(self):\n",
    "        self.value = random.random()\n",
    "\n",
    "    def play(self,p,bet,odds):\n",
    "        if (self.value>p):\n",
    "            return 0\n",
    "        else:\n",
    "            return bet * odds\n",
    "\n",
    "class Flat:\n",
    "    def __init__(self,bet,game,n):\n",
    "        self.bet = bet\n",
    "        self.game = game\n",
    "        self.flat = bet/n\n",
    "\n",
    "    def formula(self,p,odds):\n",
    "        if p*odds <1:\n",
    "            return 0\n",
    "        return self.flat\n",
    "    \n",
    "    def play(self,p,odds):\n",
    "        bet = self.formula(p,odds)\n",
    "        self.bet = self.bet - bet + self.game.play(p,bet,odds)\n",
    "\n",
    "class Kelly:\n",
    "    def __init__(self,bet,game):\n",
    "        self.bet = bet\n",
    "        self.game = game\n",
    "\n",
    "    def formula(self,p,odds):\n",
    "        bet = (p*odds-1)/odds\n",
    "        if bet > 0:\n",
    "            return bet\n",
    "        return 0\n",
    "\n",
    "    def play(self,p,odds):\n",
    "        bet = self.bet * self.formula(p,odds)\n",
    "        self.bet = self.bet - bet + self.game.play(p,bet,odds)\n",
    "        \n",
    "\n",
    "if __name__ == \"__main__\":\n",
    "    n = 100\n",
    "    bet = 10000\n",
    "    game = Game()\n",
    "    kelly = Kelly(bet,game)\n",
    "    flat = Flat(bet,game,n)\n",
    "\n",
    "    kelly_y = []\n",
    "    flat_y = []\n",
    "\n",
    "    for i in range(0,n):\n",
    "        p = random.random()\n",
    "        odds = random.uniform(1, 1.5)\n",
    "        game.random()\n",
    "        kelly.play(p,odds)\n",
    "        flat.play(p,odds)\n",
    "        kelly_y.append(kelly.bet)\n",
    "        flat_y.append(flat.bet)\n",
    "        \n",
    "    fig,ax = plt.subplots()\n",
    "    plt.xlabel(\"times\")\n",
    "    plt.ylabel(\"$\")\n",
    "\n",
    "    x = [*range(0,n)]\n",
    "    plt.plot(x,kelly_y,\"b\",label=\"kelly\")\n",
    "    plt.plot(x,flat_y,\"r\",label=\"flat\")\n",
    "    plt.legend(loc=\"upper left\")\n",
    "    plt.savefig(\"kelly-criterion.png\")\n",
    "    plt.show()"
   ]
  },
  {
   "cell_type": "code",
   "execution_count": null,
   "metadata": {},
   "outputs": [],
   "source": []
  }
 ],
 "metadata": {
  "kernelspec": {
   "display_name": "base",
   "language": "python",
   "name": "python3"
  },
  "language_info": {
   "codemirror_mode": {
    "name": "ipython",
    "version": 3
   },
   "file_extension": ".py",
   "mimetype": "text/x-python",
   "name": "python",
   "nbconvert_exporter": "python",
   "pygments_lexer": "ipython3",
   "version": "3.9.12"
  },
  "orig_nbformat": 4,
  "vscode": {
   "interpreter": {
    "hash": "40cc23766191e3511d28625666db93fd1c83d99b65ccfacac35180954be4e323"
   }
  }
 },
 "nbformat": 4,
 "nbformat_minor": 2
}
